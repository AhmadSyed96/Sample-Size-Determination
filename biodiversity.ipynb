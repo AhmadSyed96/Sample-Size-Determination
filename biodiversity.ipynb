{
 "cells": [
  {
   "cell_type": "markdown",
   "metadata": {},
   "source": [
    "# Capstone 2: Biodiversity Project"
   ]
  },
  {
   "cell_type": "markdown",
   "metadata": {},
   "source": [
    "# Introduction\n",
    "You are a biodiversity analyst working for the National Parks Service.  You're going to help them analyze some data about species at various national parks.\n",
    "\n",
    "Note: The data that you'll be working with for this project is *inspired* by real data, but is mostly fictional."
   ]
  },
  {
   "cell_type": "markdown",
   "metadata": {},
   "source": [
    "# Step 1\n",
    "Import the modules that you'll be using in this assignment:\n",
    "- `from matplotlib import pyplot as plt`\n",
    "- `import pandas as pd`"
   ]
  },
  {
   "cell_type": "code",
   "execution_count": 4,
   "metadata": {},
   "outputs": [],
   "source": [
    "import matplotlib.pyplot as plt\n",
    "import pandas as pd"
   ]
  },
  {
   "cell_type": "markdown",
   "metadata": {},
   "source": [
    "# Step 2\n",
    "You have been given two CSV files. `species_info.csv` with data about different species in our National Parks, including:\n",
    "- The scientific name of each species\n",
    "- The common names of each species\n",
    "- The species conservation status\n",
    "\n",
    "Load the dataset and inspect it:\n",
    "- Load `species_info.csv` into a DataFrame called `species`"
   ]
  },
  {
   "cell_type": "code",
   "execution_count": 5,
   "metadata": {},
   "outputs": [],
   "source": [
    "species = pd.read_csv('species_info.csv')"
   ]
  },
  {
   "cell_type": "markdown",
   "metadata": {},
   "source": [
    "Inspect each DataFrame using `.head()`."
   ]
  },
  {
   "cell_type": "code",
   "execution_count": 14,
   "metadata": {},
   "outputs": [
    {
     "name": "stdout",
     "output_type": "stream",
     "text": [
      "            category                scientific_name                                       common_names conservation_status\n",
      "0             Mammal  Clethrionomys gapperi gapperi                           Gapper's Red-Backed Vole                 NaN\n",
      "1             Mammal                      Bos bison                              American Bison, Bison                 NaN\n",
      "2             Mammal                     Bos taurus  Aurochs, Aurochs, Domestic Cattle (Feral), Dom...                 NaN\n",
      "3             Mammal                     Ovis aries  Domestic Sheep, Mouflon, Red Sheep, Sheep (Feral)                 NaN\n",
      "4             Mammal                 Cervus elaphus                                      Wapiti Or Elk                 NaN\n",
      "...              ...                            ...                                                ...                 ...\n",
      "5819  Vascular Plant               Solanum parishii                                Parish's Nightshade                 NaN\n",
      "5820  Vascular Plant                  Solanum xanti            Chaparral Nightshade, Purple Nightshade                 NaN\n",
      "5821  Vascular Plant         Parthenocissus vitacea        Thicket Creeper, Virginia Creeper, Woodbine                 NaN\n",
      "5822  Vascular Plant              Vitis californica            California Grape, California Wild Grape                 NaN\n",
      "5823  Vascular Plant            Tribulus terrestris  Bullhead, Caltrop, Goathead, Mexican Sandbur, ...                 NaN\n",
      "\n",
      "[5824 rows x 4 columns]\n"
     ]
    }
   ],
   "source": [
    "# pd.set_option('display.height', 20)\n",
    "pd.set_option('display.max_rows', 20)\n",
    "pd.set_option('display.max_columns', 20)\n",
    "pd.set_option('display.width', 200)\n",
    "print(species)"
   ]
  },
  {
   "cell_type": "markdown",
   "metadata": {},
   "source": [
    "# Step 3\n",
    "Let's start by learning a bit more about our data.  Answer each of the following questions."
   ]
  },
  {
   "cell_type": "markdown",
   "metadata": {},
   "source": [
    "How many different species are in the `species` DataFrame?"
   ]
  },
  {
   "cell_type": "code",
   "execution_count": 18,
   "metadata": {},
   "outputs": [
    {
     "name": "stdout",
     "output_type": "stream",
     "text": [
      "5541\n"
     ]
    }
   ],
   "source": [
    "print(species.scientific_name.nunique())"
   ]
  },
  {
   "cell_type": "markdown",
   "metadata": {},
   "source": [
    "What are the different values of `category` in `species`?"
   ]
  },
  {
   "cell_type": "code",
   "execution_count": 24,
   "metadata": {},
   "outputs": [
    {
     "name": "stdout",
     "output_type": "stream",
     "text": [
      "['Mammal' 'Bird' 'Reptile' 'Amphibian' 'Fish' 'Vascular Plant'\n",
      " 'Nonvascular Plant']\n"
     ]
    }
   ],
   "source": [
    "pd.set_option('display.max_rows', 20)\n",
    "pd.set_option('display.width', 200)\n",
    "print(species.category.unique())"
   ]
  },
  {
   "cell_type": "markdown",
   "metadata": {},
   "source": [
    "What are the different values of `conservation_status`?"
   ]
  },
  {
   "cell_type": "code",
   "execution_count": 26,
   "metadata": {},
   "outputs": [
    {
     "name": "stdout",
     "output_type": "stream",
     "text": [
      "[nan 'Species of Concern' 'Endangered' 'Threatened' 'In Recovery']\n"
     ]
    }
   ],
   "source": [
    "print(species.conservation_status.unique())"
   ]
  },
  {
   "cell_type": "markdown",
   "metadata": {},
   "source": [
    "# Step 4\n",
    "Let's start doing some analysis!\n",
    "\n",
    "The column `conservation_status` has several possible values:\n",
    "- `Species of Concern`: declining or appear to be in need of conservation\n",
    "- `Threatened`: vulnerable to endangerment in the near future\n",
    "- `Endangered`: seriously at risk of extinction\n",
    "- `In Recovery`: formerly `Endangered`, but currnetly neither in danger of extinction throughout all or a significant portion of its range\n",
    "\n",
    "We'd like to count up how many species meet each of these criteria.  Use `groupby` to count how many `scientific_name` meet each of these criteria."
   ]
  },
  {
   "cell_type": "code",
   "execution_count": 48,
   "metadata": {},
   "outputs": [
    {
     "name": "stdout",
     "output_type": "stream",
     "text": [
      "  conservation_status  scientific_name\n",
      "0          Endangered               15\n",
      "1         In Recovery                4\n",
      "2  Species of Concern              151\n",
      "3          Threatened               10\n",
      "\t\t       total\n",
      "\t\t\t\t   180\n"
     ]
    }
   ],
   "source": [
    "species_status = species.groupby('conservation_status').scientific_name.nunique().reset_index()\n",
    "print(species_status)\n",
    "print(f'\\t\\t       total\\n\\t\\t\\t\\t   {species_status.scientific_name.sum()}')"
   ]
  },
  {
   "cell_type": "markdown",
   "metadata": {},
   "source": [
    "As we saw before, there are far more than 200 species in the `species` table.  Clearly, only a small number of them are categorized as needing some sort of protection.  The rest have `conservation_status` equal to `None`.  Because `groupby` does not include `None`, we will need to fill in the null values.  We can do this using `.fillna`.  We pass in however we want to fill in our `None` values as an argument.\n",
    "\n",
    "Paste the following code and run it to see replace `None` with `No Intervention`:\n",
    "```python\n",
    "species.fillna('No Intervention', inplace=True)\n",
    "```"
   ]
  },
  {
   "cell_type": "code",
   "execution_count": 49,
   "metadata": {},
   "outputs": [],
   "source": [
    "species.fillna('No Intervention', inplace=True)"
   ]
  },
  {
   "cell_type": "markdown",
   "metadata": {},
   "source": [
    "Great! Now run the same `groupby` as before to see how many species require `No Intervention`."
   ]
  },
  {
   "cell_type": "code",
   "execution_count": 51,
   "metadata": {},
   "outputs": [
    {
     "name": "stdout",
     "output_type": "stream",
     "text": [
      "  conservation_status  scientific_name\n",
      "0          Endangered               15\n",
      "1         In Recovery                4\n",
      "2     No Intervention             5363\n",
      "3  Species of Concern              151\n",
      "4          Threatened               10\n",
      "\t\t       total\n",
      "\t\t\t\t  5543\n"
     ]
    }
   ],
   "source": [
    "species_status = species.groupby('conservation_status').scientific_name.nunique().reset_index()\n",
    "print(species_status)\n",
    "print(f'\\t\\t       total\\n\\t\\t\\t\\t  {species_status.scientific_name.sum()}')"
   ]
  },
  {
   "cell_type": "markdown",
   "metadata": {},
   "source": [
    "Let's use `plt.bar` to create a bar chart.  First, let's sort the columns by how many species are in each categories.  We can do this using `.sort_values`.  We use the the keyword `by` to indicate which column we want to sort by.\n",
    "\n",
    "Paste the following code and run it to create a new DataFrame called `protection_counts`, which is sorted by `scientific_name`:\n",
    "```python\n",
    "protection_counts = species.groupby('conservation_status')\\\n",
    "    .scientific_name.nunique().reset_index()\\\n",
    "    .sort_values(by='scientific_name')\n",
    "```"
   ]
  },
  {
   "cell_type": "code",
   "execution_count": 52,
   "metadata": {},
   "outputs": [],
   "source": [
    "species_status = species.groupby('conservation_status').scientific_name.nunique().reset_index().sort_values(by='scientific_name')"
   ]
  },
  {
   "cell_type": "markdown",
   "metadata": {},
   "source": [
    "Now let's create a bar chart!\n",
    "1. Start by creating a wide figure with `figsize=(10, 4)`\n",
    "1. Start by creating an axes object called `ax` using `plt.subplot`.\n",
    "2. Create a bar chart whose heights are equal to `scientific_name` column of `protection_counts`.\n",
    "3. Create an x-tick for each of the bars.\n",
    "4. Label each x-tick with the label from `conservation_status` in `protection_counts`\n",
    "5. Label the y-axis `Number of Species`\n",
    "6. Title the graph `Conservation Status by Species`\n",
    "7. Plot the grap using `plt.show()`"
   ]
  },
  {
   "cell_type": "code",
   "execution_count": 55,
   "metadata": {},
   "outputs": [
    {
     "data": {
      "image/png": "[encoded data removed]",
      "text/plain": [
       "<Figure size 720x288 with 1 Axes>"
      ]
     },
     "metadata": {
      "needs_background": "light"
     },
     "output_type": "display_data"
    }
   ],
   "source": [
    "plt.figure(figsize=(10,4))\n",
    "plt.bar(species_status['conservation_status'], species_status['scientific_name'])\n",
    "plt.xlabel('Status')\n",
    "plt.ylabel('Number of Species')\n",
    "plt.title('Conservation Status by Species')\n",
    "plt.show()"
   ]
  },
  {
   "cell_type": "markdown",
   "metadata": {},
   "source": [
    "# Step 4\n",
    "Are certain types of species more likely to be endangered?"
   ]
  },
  {
   "cell_type": "markdown",
   "metadata": {},
   "source": [
    "Let's create a new column in `species` called `is_protected`, which is `True` if `conservation_status` is not equal to `No Intervention`, and `False` otherwise."
   ]
  },
  {
   "cell_type": "code",
   "execution_count": 58,
   "metadata": {},
   "outputs": [
    {
     "name": "stdout",
     "output_type": "stream",
     "text": [
      "   category                scientific_name                                       common_names conservation_status  is_protected\n",
      "0    Mammal  Clethrionomys gapperi gapperi                           Gapper's Red-Backed Vole     No Intervention         False\n",
      "1    Mammal                      Bos bison                              American Bison, Bison     No Intervention         False\n",
      "2    Mammal                     Bos taurus  Aurochs, Aurochs, Domestic Cattle (Feral), Dom...     No Intervention         False\n",
      "3    Mammal                     Ovis aries  Domestic Sheep, Mouflon, Red Sheep, Sheep (Feral)     No Intervention         False\n",
      "4    Mammal                 Cervus elaphus                                      Wapiti Or Elk     No Intervention         False\n",
      "5    Mammal         Odocoileus virginianus                                  White-Tailed Deer     No Intervention         False\n",
      "6    Mammal                     Sus scrofa                                Feral Hog, Wild Pig     No Intervention         False\n",
      "7    Mammal                  Canis latrans                                             Coyote  Species of Concern          True\n",
      "8    Mammal                    Canis lupus                                          Gray Wolf          Endangered          True\n",
      "9    Mammal                    Canis rufus                                           Red Wolf          Endangered          True\n",
      "10   Mammal       Urocyon cinereoargenteus                          Common Gray Fox, Gray Fox     No Intervention         False\n",
      "11   Mammal                   Vulpes fulva          Black Fox, Cross Fox, Red Fox, Silver Fox     No Intervention         False\n",
      "12   Mammal                  Vulpes vulpes                                            Red Fox     No Intervention         False\n",
      "13   Mammal                 Felis concolor                                      Mountain Lion     No Intervention         False\n",
      "14   Mammal               Felis silvestris                                  Wild Cat, Wildcat     No Intervention         False\n",
      "15   Mammal                     Lynx rufus                                             Bobcat     No Intervention         False\n",
      "16   Mammal                  Puma concolor                            Panther (Mountain Lion)     No Intervention         False\n",
      "17   Mammal              Mephitis mephitis                                      Striped Skunk     No Intervention         False\n",
      "18   Mammal             Spilogale putorius                              Eastern Spotted Skunk     No Intervention         False\n",
      "19   Mammal              Lontra canadensis                                        River Otter     No Intervention         False\n"
     ]
    }
   ],
   "source": [
    "protection = lambda entry: True if entry != 'No Intervention' else False\n",
    "species['is_protected'] = species.conservation_status.apply(protection)\n",
    "print(species.head(20))"
   ]
  },
  {
   "cell_type": "markdown",
   "metadata": {},
   "source": [
    "Let's group the `species` data frame by the `category` and `is_protected` columns and count the unique `scientific_name`s in each grouping.\n",
    "\n",
    "Save your results to `category_counts`."
   ]
  },
  {
   "cell_type": "code",
   "execution_count": 62,
   "metadata": {},
   "outputs": [],
   "source": [
    "category_status = species.groupby(['category', 'is_protected']).scientific_name.count().reset_index()"
   ]
  },
  {
   "cell_type": "markdown",
   "metadata": {},
   "source": [
    "Examine `category_counts` using `head()`."
   ]
  },
  {
   "cell_type": "code",
   "execution_count": 64,
   "metadata": {},
   "outputs": [
    {
     "name": "stdout",
     "output_type": "stream",
     "text": [
      "    category  is_protected  scientific_name\n",
      "0  Amphibian         False               73\n",
      "1  Amphibian          True                7\n",
      "2       Bird         False              442\n",
      "3       Bird          True               79\n",
      "4       Fish         False              116\n"
     ]
    }
   ],
   "source": [
    "print(category_status.head())"
   ]
  },
  {
   "cell_type": "markdown",
   "metadata": {
    "collapsed": true
   },
   "source": [
    "It's going to be easier to view this data if we pivot it.  Using `pivot`, rearange `category_counts` so that:\n",
    "- `columns` is `is_protected`\n",
    "- `index` is `category`\n",
    "- `values` is `scientific_name`\n",
    "\n",
    "Save your pivoted data to `category_pivot`. Remember to `reset_index()` at the end."
   ]
  },
  {
   "cell_type": "code",
   "execution_count": 67,
   "metadata": {},
   "outputs": [],
   "source": [
    "category_pivot = category_status.pivot(columns='is_protected', index='category', values='scientific_name').reset_index()"
   ]
  },
  {
   "cell_type": "markdown",
   "metadata": {},
   "source": [
    "Examine `category_pivot`."
   ]
  },
  {
   "cell_type": "code",
   "execution_count": 68,
   "metadata": {},
   "outputs": [
    {
     "name": "stdout",
     "output_type": "stream",
     "text": [
      "is_protected           category  False  True\n",
      "0                     Amphibian     73     7\n",
      "1                          Bird    442    79\n",
      "2                          Fish    116    11\n",
      "3                        Mammal    176    38\n",
      "4             Nonvascular Plant    328     5\n",
      "5                       Reptile     74     5\n",
      "6                Vascular Plant   4424    46\n"
     ]
    }
   ],
   "source": [
    "print(category_pivot)"
   ]
  },
  {
   "cell_type": "markdown",
   "metadata": {},
   "source": [
    "Use the `.columns` property to  rename the categories `True` and `False` to something more description:\n",
    "- Leave `category` as `category`\n",
    "- Rename `False` to `not_protected`\n",
    "- Rename `True` to `protected`"
   ]
  },
  {
   "cell_type": "code",
   "execution_count": 71,
   "metadata": {},
   "outputs": [
    {
     "name": "stdout",
     "output_type": "stream",
     "text": [
      "is_protected           category  not_protected  protected\n",
      "0                     Amphibian             73          7\n",
      "1                          Bird            442         79\n",
      "2                          Fish            116         11\n",
      "3                        Mammal            176         38\n",
      "4             Nonvascular Plant            328          5\n",
      "5                       Reptile             74          5\n",
      "6                Vascular Plant           4424         46\n"
     ]
    }
   ],
   "source": [
    "category_pivot.rename(columns={False:'not_protected', True:'protected'}, inplace=True)\n",
    "print(category_pivot)"
   ]
  },
  {
   "cell_type": "markdown",
   "metadata": {},
   "source": [
    "Let's create a new column of `category_pivot` called `percent_protected`, which is equal to `protected` (the number of species that are protected) divided by `protected` plus `not_protected` (the total number of species)."
   ]
  },
  {
   "cell_type": "code",
   "execution_count": 72,
   "metadata": {},
   "outputs": [],
   "source": [
    "category_pivot['percent_protected'] = category_pivot['protected'] / (category_pivot['not_protected'] + category_pivot['protected'])"
   ]
  },
  {
   "cell_type": "markdown",
   "metadata": {},
   "source": [
    "Examine `category_pivot`."
   ]
  },
  {
   "cell_type": "code",
   "execution_count": 73,
   "metadata": {},
   "outputs": [
    {
     "name": "stdout",
     "output_type": "stream",
     "text": [
      "is_protected           category  not_protected  protected  percent_protected\n",
      "0                     Amphibian             73          7           0.087500\n",
      "1                          Bird            442         79           0.151631\n",
      "2                          Fish            116         11           0.086614\n",
      "3                        Mammal            176         38           0.177570\n",
      "4             Nonvascular Plant            328          5           0.015015\n",
      "5                       Reptile             74          5           0.063291\n",
      "6                Vascular Plant           4424         46           0.010291\n"
     ]
    }
   ],
   "source": [
    "print(category_pivot)"
   ]
  },
  {
   "cell_type": "markdown",
   "metadata": {},
   "source": [
    "It looks like species in category `Mammal` are more likely to be endangered than species in `Bird`.  We're going to do a significance test to see if this statement is true.  Before you do the significance test, consider the following questions:\n",
    "- Is the data numerical or categorical?\n",
    "- How many pieces of data are you comparing?"
   ]
  },
  {
   "cell_type": "markdown",
   "metadata": {},
   "source": [
    "Based on those answers, you should choose to do a *chi squared test*.  In order to run a chi squared test, we'll need to create a contingency table.  Our contingency table should look like this:\n",
    "\n",
    "||protected|not protected|\n",
    "|-|-|-|\n",
    "|Mammal|?|?|\n",
    "|Bird|?|?|\n",
    "\n",
    "Create a table called `contingency` and fill it in with the correct numbers"
   ]
  },
  {
   "cell_type": "code",
   "execution_count": 170,
   "metadata": {},
   "outputs": [
    {
     "name": "stdout",
     "output_type": "stream",
     "text": [
      "[[38, 176], [79, 442]]\n"
     ]
    }
   ],
   "source": [
    "contingency = [[category_pivot.loc[3,'protected'], category_pivot.loc[3,'not_protected']], [category_pivot.loc[1,'protected'], category_pivot.loc[1,'not_protected']]]\n",
    "print(contingency)"
   ]
  },
  {
   "cell_type": "markdown",
   "metadata": {},
   "source": [
    "In order to perform our chi square test, we'll need to import the correct function from scipy.  Past the following code and run it:\n",
    "```py\n",
    "from scipy.stats import chi2_contingency\n",
    "```"
   ]
  },
  {
   "cell_type": "code",
   "execution_count": 171,
   "metadata": {},
   "outputs": [],
   "source": [
    "from scipy.stats import chi2_contingency"
   ]
  },
  {
   "cell_type": "markdown",
   "metadata": {},
   "source": [
    "Now run `chi2_contingency` with `contingency`."
   ]
  },
  {
   "cell_type": "code",
   "execution_count": 173,
   "metadata": {},
   "outputs": [
    {
     "name": "stdout",
     "output_type": "stream",
     "text": [
      "0.445901703047197\n"
     ]
    }
   ],
   "source": [
    "chi_stat, pval, dof, expected = chi2_contingency(contingency)\n",
    "print(pval)"
   ]
  },
  {
   "cell_type": "markdown",
   "metadata": {},
   "source": [
    "It looks like this difference isn't significant!\n",
    "\n",
    "Let's test another.  Is the difference between `Reptile` and `Mammal` significant?"
   ]
  },
  {
   "cell_type": "code",
   "execution_count": 174,
   "metadata": {},
   "outputs": [
    {
     "name": "stdout",
     "output_type": "stream",
     "text": [
      "0.02338465214871547\n"
     ]
    }
   ],
   "source": [
    "contingency = [[category_pivot.loc[3,'protected'], category_pivot.loc[3,'not_protected']], [category_pivot.loc[5,'protected'], category_pivot.loc[5,'not_protected']]]\n",
    "chi_stat, pval, dof, expected = chi2_contingency(contingency)\n",
    "print(pval)"
   ]
  },
  {
   "cell_type": "markdown",
   "metadata": {},
   "source": [
    "Yes! It looks like there is a significant difference between `Reptile` and `Mammal`!"
   ]
  },
  {
   "cell_type": "markdown",
   "metadata": {},
   "source": [
    "# Step 5\n"
   ]
  },
  {
   "cell_type": "markdown",
   "metadata": {},
   "source": [
    "Conservationists have been recording sightings of different species at several national parks for the past 7 days.  They've saved sent you their observations in a file called `observations.csv`.  Load `observations.csv` into a variable called `observations`, then use `head` to view the data."
   ]
  },
  {
   "cell_type": "code",
   "execution_count": 176,
   "metadata": {},
   "outputs": [
    {
     "name": "stdout",
     "output_type": "stream",
     "text": [
      "                               scientific_name                            park_name  observations\n",
      "0                           Vicia benghalensis  Great Smoky Mountains National Park            68\n",
      "1                               Neovison vison  Great Smoky Mountains National Park            77\n",
      "2                            Prunus subcordata               Yosemite National Park           138\n",
      "3                         Abutilon theophrasti                  Bryce National Park            84\n",
      "4                     Githopsis specularioides  Great Smoky Mountains National Park            85\n",
      "...                                        ...                                  ...           ...\n",
      "23291                     Croton monanthogynus               Yosemite National Park           173\n",
      "23292                 Otospermophilus beecheyi                  Bryce National Park           130\n",
      "23293  Heterotheca sessiliflora ssp. echioides                  Bryce National Park           140\n",
      "23294                     Dicranella rufescens               Yosemite National Park           171\n",
      "23295                           Cucurbita pepo               Yosemite National Park           164\n",
      "\n",
      "[23296 rows x 3 columns]\n"
     ]
    }
   ],
   "source": [
    "observations = pd.read_csv('observations.csv')\n",
    "print(observations)"
   ]
  },
  {
   "cell_type": "markdown",
   "metadata": {},
   "source": [
    "Some scientists are studying the number of sheep sightings at different national parks.  There are several different scientific names for different types of sheep.  We'd like to know which rows of `species` are referring to sheep.  Notice that the following code will tell us whether or not a word occurs in a string:"
   ]
  },
  {
   "cell_type": "code",
   "execution_count": 1,
   "metadata": {},
   "outputs": [
    {
     "data": {
      "text/plain": [
       "True"
      ]
     },
     "execution_count": 1,
     "metadata": {},
     "output_type": "execute_result"
    }
   ],
   "source": [
    "# Does \"Sheep\" occur in this string?\n",
    "str1 = 'This string contains Sheep'\n",
    "'Sheep' in str1"
   ]
  },
  {
   "cell_type": "code",
   "execution_count": 2,
   "metadata": {},
   "outputs": [
    {
     "data": {
      "text/plain": [
       "False"
      ]
     },
     "execution_count": 2,
     "metadata": {},
     "output_type": "execute_result"
    }
   ],
   "source": [
    "# Does \"Sheep\" occur in this string?\n",
    "str2 = 'This string contains Cows'\n",
    "'Sheep' in str2"
   ]
  },
  {
   "cell_type": "markdown",
   "metadata": {},
   "source": [
    "Use `apply` and a `lambda` function to create a new column in `species` called `is_sheep` which is `True` if the `common_names` contains `'Sheep'`, and `False` otherwise."
   ]
  },
  {
   "cell_type": "code",
   "execution_count": 193,
   "metadata": {},
   "outputs": [
    {
     "name": "stdout",
     "output_type": "stream",
     "text": [
      "['scientific_name' 'park_name' 'observations' 'is_sheep']\n"
     ]
    }
   ],
   "source": [
    "species['is_sheep'] = species.common_names.apply(lambda entry:'Sheep' in entry )\n",
    "print(species.columns.values)"
   ]
  },
  {
   "cell_type": "markdown",
   "metadata": {},
   "source": [
    "Select the rows of `species` where `is_sheep` is `True` and examine the results."
   ]
  },
  {
   "cell_type": "code",
   "execution_count": 204,
   "metadata": {},
   "outputs": [
    {
     "name": "stdout",
     "output_type": "stream",
     "text": [
      "            category              scientific_name                                       common_names conservation_status  is_protected  is_sheep\n",
      "3             Mammal                   Ovis aries  Domestic Sheep, Mouflon, Red Sheep, Sheep (Feral)     No Intervention         False      True\n",
      "1139  Vascular Plant             Rumex acetosella                        Sheep Sorrel, Sheep Sorrell     No Intervention         False      True\n",
      "2233  Vascular Plant           Festuca filiformis                              Fineleaf Sheep Fescue     No Intervention         False      True\n",
      "3014          Mammal              Ovis canadensis                       Bighorn Sheep, Bighorn Sheep  Species of Concern          True      True\n",
      "3758  Vascular Plant             Rumex acetosella  Common Sheep Sorrel, Field Sorrel, Red Sorrel,...     No Intervention         False      True\n",
      "3761  Vascular Plant            Rumex paucifolius   Alpine Sheep Sorrel, Fewleaved Dock, Meadow Dock     No Intervention         False      True\n",
      "4091  Vascular Plant                 Carex illota                       Sheep Sedge, Smallhead Sedge     No Intervention         False      True\n",
      "4383  Vascular Plant  Potentilla ovina var. ovina                                   Sheep Cinquefoil     No Intervention         False      True\n",
      "4446          Mammal      Ovis canadensis sierrae                        Sierra Nevada Bighorn Sheep          Endangered          True      True\n"
     ]
    }
   ],
   "source": [
    "print(species[species.is_sheep == True])"
   ]
  },
  {
   "cell_type": "markdown",
   "metadata": {},
   "source": [
    "Many of the results are actually plants.  Select the rows of `species` where `is_sheep` is `True` and `category` is `Mammal`.  Save the results to the variable `sheep_species`."
   ]
  },
  {
   "cell_type": "code",
   "execution_count": 205,
   "metadata": {},
   "outputs": [
    {
     "data": {
      "text/html": [
       "<div>\n",
       "<style scoped>\n",
       "    .dataframe tbody tr th:only-of-type {\n",
       "        vertical-align: middle;\n",
       "    }\n",
       "\n",
       "    .dataframe tbody tr th {\n",
       "        vertical-align: top;\n",
       "    }\n",
       "\n",
       "    .dataframe thead th {\n",
       "        text-align: right;\n",
       "    }\n",
       "</style>\n",
       "<table border=\"1\" class=\"dataframe\">\n",
       "  <thead>\n",
       "    <tr style=\"text-align: right;\">\n",
       "      <th></th>\n",
       "      <th>category</th>\n",
       "      <th>scientific_name</th>\n",
       "      <th>common_names</th>\n",
       "      <th>conservation_status</th>\n",
       "      <th>is_protected</th>\n",
       "      <th>is_sheep</th>\n",
       "    </tr>\n",
       "  </thead>\n",
       "  <tbody>\n",
       "    <tr>\n",
       "      <th>3</th>\n",
       "      <td>Mammal</td>\n",
       "      <td>Ovis aries</td>\n",
       "      <td>Domestic Sheep, Mouflon, Red Sheep, Sheep (Feral)</td>\n",
       "      <td>No Intervention</td>\n",
       "      <td>False</td>\n",
       "      <td>True</td>\n",
       "    </tr>\n",
       "    <tr>\n",
       "      <th>3014</th>\n",
       "      <td>Mammal</td>\n",
       "      <td>Ovis canadensis</td>\n",
       "      <td>Bighorn Sheep, Bighorn Sheep</td>\n",
       "      <td>Species of Concern</td>\n",
       "      <td>True</td>\n",
       "      <td>True</td>\n",
       "    </tr>\n",
       "    <tr>\n",
       "      <th>4446</th>\n",
       "      <td>Mammal</td>\n",
       "      <td>Ovis canadensis sierrae</td>\n",
       "      <td>Sierra Nevada Bighorn Sheep</td>\n",
       "      <td>Endangered</td>\n",
       "      <td>True</td>\n",
       "      <td>True</td>\n",
       "    </tr>\n",
       "  </tbody>\n",
       "</table>\n",
       "</div>"
      ],
      "text/plain": [
       "     category          scientific_name                                       common_names conservation_status  is_protected  is_sheep\n",
       "3      Mammal               Ovis aries  Domestic Sheep, Mouflon, Red Sheep, Sheep (Feral)     No Intervention         False      True\n",
       "3014   Mammal          Ovis canadensis                       Bighorn Sheep, Bighorn Sheep  Species of Concern          True      True\n",
       "4446   Mammal  Ovis canadensis sierrae                        Sierra Nevada Bighorn Sheep          Endangered          True      True"
      ]
     },
     "execution_count": 205,
     "metadata": {},
     "output_type": "execute_result"
    }
   ],
   "source": [
    "sheep_species = species[(species.is_sheep == True)&(species.category == 'Mammal')]\n",
    "sheep_species"
   ]
  },
  {
   "cell_type": "markdown",
   "metadata": {},
   "source": [
    "Now merge `sheep_species` with `observations` to get a DataFrame with observations of sheep.  Save this DataFrame as `sheep_observations`."
   ]
  },
  {
   "cell_type": "code",
   "execution_count": 206,
   "metadata": {},
   "outputs": [
    {
     "data": {
      "text/html": [
       "<div>\n",
       "<style scoped>\n",
       "    .dataframe tbody tr th:only-of-type {\n",
       "        vertical-align: middle;\n",
       "    }\n",
       "\n",
       "    .dataframe tbody tr th {\n",
       "        vertical-align: top;\n",
       "    }\n",
       "\n",
       "    .dataframe thead th {\n",
       "        text-align: right;\n",
       "    }\n",
       "</style>\n",
       "<table border=\"1\" class=\"dataframe\">\n",
       "  <thead>\n",
       "    <tr style=\"text-align: right;\">\n",
       "      <th></th>\n",
       "      <th>scientific_name</th>\n",
       "      <th>park_name</th>\n",
       "      <th>observations</th>\n",
       "      <th>category</th>\n",
       "      <th>common_names</th>\n",
       "      <th>conservation_status</th>\n",
       "      <th>is_protected</th>\n",
       "      <th>is_sheep</th>\n",
       "    </tr>\n",
       "  </thead>\n",
       "  <tbody>\n",
       "    <tr>\n",
       "      <th>0</th>\n",
       "      <td>Ovis canadensis</td>\n",
       "      <td>Yellowstone National Park</td>\n",
       "      <td>219</td>\n",
       "      <td>Mammal</td>\n",
       "      <td>Bighorn Sheep, Bighorn Sheep</td>\n",
       "      <td>Species of Concern</td>\n",
       "      <td>True</td>\n",
       "      <td>True</td>\n",
       "    </tr>\n",
       "    <tr>\n",
       "      <th>1</th>\n",
       "      <td>Ovis canadensis</td>\n",
       "      <td>Bryce National Park</td>\n",
       "      <td>109</td>\n",
       "      <td>Mammal</td>\n",
       "      <td>Bighorn Sheep, Bighorn Sheep</td>\n",
       "      <td>Species of Concern</td>\n",
       "      <td>True</td>\n",
       "      <td>True</td>\n",
       "    </tr>\n",
       "    <tr>\n",
       "      <th>2</th>\n",
       "      <td>Ovis canadensis</td>\n",
       "      <td>Yosemite National Park</td>\n",
       "      <td>117</td>\n",
       "      <td>Mammal</td>\n",
       "      <td>Bighorn Sheep, Bighorn Sheep</td>\n",
       "      <td>Species of Concern</td>\n",
       "      <td>True</td>\n",
       "      <td>True</td>\n",
       "    </tr>\n",
       "    <tr>\n",
       "      <th>3</th>\n",
       "      <td>Ovis canadensis</td>\n",
       "      <td>Great Smoky Mountains National Park</td>\n",
       "      <td>48</td>\n",
       "      <td>Mammal</td>\n",
       "      <td>Bighorn Sheep, Bighorn Sheep</td>\n",
       "      <td>Species of Concern</td>\n",
       "      <td>True</td>\n",
       "      <td>True</td>\n",
       "    </tr>\n",
       "    <tr>\n",
       "      <th>4</th>\n",
       "      <td>Ovis canadensis sierrae</td>\n",
       "      <td>Yellowstone National Park</td>\n",
       "      <td>67</td>\n",
       "      <td>Mammal</td>\n",
       "      <td>Sierra Nevada Bighorn Sheep</td>\n",
       "      <td>Endangered</td>\n",
       "      <td>True</td>\n",
       "      <td>True</td>\n",
       "    </tr>\n",
       "    <tr>\n",
       "      <th>5</th>\n",
       "      <td>Ovis canadensis sierrae</td>\n",
       "      <td>Yosemite National Park</td>\n",
       "      <td>39</td>\n",
       "      <td>Mammal</td>\n",
       "      <td>Sierra Nevada Bighorn Sheep</td>\n",
       "      <td>Endangered</td>\n",
       "      <td>True</td>\n",
       "      <td>True</td>\n",
       "    </tr>\n",
       "    <tr>\n",
       "      <th>6</th>\n",
       "      <td>Ovis canadensis sierrae</td>\n",
       "      <td>Bryce National Park</td>\n",
       "      <td>22</td>\n",
       "      <td>Mammal</td>\n",
       "      <td>Sierra Nevada Bighorn Sheep</td>\n",
       "      <td>Endangered</td>\n",
       "      <td>True</td>\n",
       "      <td>True</td>\n",
       "    </tr>\n",
       "    <tr>\n",
       "      <th>7</th>\n",
       "      <td>Ovis canadensis sierrae</td>\n",
       "      <td>Great Smoky Mountains National Park</td>\n",
       "      <td>25</td>\n",
       "      <td>Mammal</td>\n",
       "      <td>Sierra Nevada Bighorn Sheep</td>\n",
       "      <td>Endangered</td>\n",
       "      <td>True</td>\n",
       "      <td>True</td>\n",
       "    </tr>\n",
       "    <tr>\n",
       "      <th>8</th>\n",
       "      <td>Ovis aries</td>\n",
       "      <td>Yosemite National Park</td>\n",
       "      <td>126</td>\n",
       "      <td>Mammal</td>\n",
       "      <td>Domestic Sheep, Mouflon, Red Sheep, Sheep (Feral)</td>\n",
       "      <td>No Intervention</td>\n",
       "      <td>False</td>\n",
       "      <td>True</td>\n",
       "    </tr>\n",
       "    <tr>\n",
       "      <th>9</th>\n",
       "      <td>Ovis aries</td>\n",
       "      <td>Great Smoky Mountains National Park</td>\n",
       "      <td>76</td>\n",
       "      <td>Mammal</td>\n",
       "      <td>Domestic Sheep, Mouflon, Red Sheep, Sheep (Feral)</td>\n",
       "      <td>No Intervention</td>\n",
       "      <td>False</td>\n",
       "      <td>True</td>\n",
       "    </tr>\n",
       "    <tr>\n",
       "      <th>10</th>\n",
       "      <td>Ovis aries</td>\n",
       "      <td>Bryce National Park</td>\n",
       "      <td>119</td>\n",
       "      <td>Mammal</td>\n",
       "      <td>Domestic Sheep, Mouflon, Red Sheep, Sheep (Feral)</td>\n",
       "      <td>No Intervention</td>\n",
       "      <td>False</td>\n",
       "      <td>True</td>\n",
       "    </tr>\n",
       "    <tr>\n",
       "      <th>11</th>\n",
       "      <td>Ovis aries</td>\n",
       "      <td>Yellowstone National Park</td>\n",
       "      <td>221</td>\n",
       "      <td>Mammal</td>\n",
       "      <td>Domestic Sheep, Mouflon, Red Sheep, Sheep (Feral)</td>\n",
       "      <td>No Intervention</td>\n",
       "      <td>False</td>\n",
       "      <td>True</td>\n",
       "    </tr>\n",
       "  </tbody>\n",
       "</table>\n",
       "</div>"
      ],
      "text/plain": [
       "            scientific_name                            park_name  observations category                                       common_names conservation_status  is_protected  is_sheep\n",
       "0           Ovis canadensis            Yellowstone National Park           219   Mammal                       Bighorn Sheep, Bighorn Sheep  Species of Concern          True      True\n",
       "1           Ovis canadensis                  Bryce National Park           109   Mammal                       Bighorn Sheep, Bighorn Sheep  Species of Concern          True      True\n",
       "2           Ovis canadensis               Yosemite National Park           117   Mammal                       Bighorn Sheep, Bighorn Sheep  Species of Concern          True      True\n",
       "3           Ovis canadensis  Great Smoky Mountains National Park            48   Mammal                       Bighorn Sheep, Bighorn Sheep  Species of Concern          True      True\n",
       "4   Ovis canadensis sierrae            Yellowstone National Park            67   Mammal                        Sierra Nevada Bighorn Sheep          Endangered          True      True\n",
       "5   Ovis canadensis sierrae               Yosemite National Park            39   Mammal                        Sierra Nevada Bighorn Sheep          Endangered          True      True\n",
       "6   Ovis canadensis sierrae                  Bryce National Park            22   Mammal                        Sierra Nevada Bighorn Sheep          Endangered          True      True\n",
       "7   Ovis canadensis sierrae  Great Smoky Mountains National Park            25   Mammal                        Sierra Nevada Bighorn Sheep          Endangered          True      True\n",
       "8                Ovis aries               Yosemite National Park           126   Mammal  Domestic Sheep, Mouflon, Red Sheep, Sheep (Feral)     No Intervention         False      True\n",
       "9                Ovis aries  Great Smoky Mountains National Park            76   Mammal  Domestic Sheep, Mouflon, Red Sheep, Sheep (Feral)     No Intervention         False      True\n",
       "10               Ovis aries                  Bryce National Park           119   Mammal  Domestic Sheep, Mouflon, Red Sheep, Sheep (Feral)     No Intervention         False      True\n",
       "11               Ovis aries            Yellowstone National Park           221   Mammal  Domestic Sheep, Mouflon, Red Sheep, Sheep (Feral)     No Intervention         False      True"
      ]
     },
     "execution_count": 206,
     "metadata": {},
     "output_type": "execute_result"
    }
   ],
   "source": [
    "sheep_observations = observations.merge(sheep_species)\n",
    "sheep_observations"
   ]
  },
  {
   "cell_type": "markdown",
   "metadata": {},
   "source": [
    "How many total sheep observations (across all three species) were made at each national park?  Use `groupby` to get the `sum` of `observations` for each `park_name`.  Save your answer to `obs_by_park`.\n",
    "\n",
    "This is the total number of sheep observed in each park over the past 7 days."
   ]
  },
  {
   "cell_type": "code",
   "execution_count": 211,
   "metadata": {},
   "outputs": [
    {
     "data": {
      "text/html": [
       "<div>\n",
       "<style scoped>\n",
       "    .dataframe tbody tr th:only-of-type {\n",
       "        vertical-align: middle;\n",
       "    }\n",
       "\n",
       "    .dataframe tbody tr th {\n",
       "        vertical-align: top;\n",
       "    }\n",
       "\n",
       "    .dataframe thead th {\n",
       "        text-align: right;\n",
       "    }\n",
       "</style>\n",
       "<table border=\"1\" class=\"dataframe\">\n",
       "  <thead>\n",
       "    <tr style=\"text-align: right;\">\n",
       "      <th></th>\n",
       "      <th>park_name</th>\n",
       "      <th>observations</th>\n",
       "    </tr>\n",
       "  </thead>\n",
       "  <tbody>\n",
       "    <tr>\n",
       "      <th>0</th>\n",
       "      <td>Bryce National Park</td>\n",
       "      <td>250</td>\n",
       "    </tr>\n",
       "    <tr>\n",
       "      <th>1</th>\n",
       "      <td>Great Smoky Mountains National Park</td>\n",
       "      <td>149</td>\n",
       "    </tr>\n",
       "    <tr>\n",
       "      <th>2</th>\n",
       "      <td>Yellowstone National Park</td>\n",
       "      <td>507</td>\n",
       "    </tr>\n",
       "    <tr>\n",
       "      <th>3</th>\n",
       "      <td>Yosemite National Park</td>\n",
       "      <td>282</td>\n",
       "    </tr>\n",
       "  </tbody>\n",
       "</table>\n",
       "</div>"
      ],
      "text/plain": [
       "                             park_name  observations\n",
       "0                  Bryce National Park           250\n",
       "1  Great Smoky Mountains National Park           149\n",
       "2            Yellowstone National Park           507\n",
       "3               Yosemite National Park           282"
      ]
     },
     "execution_count": 211,
     "metadata": {},
     "output_type": "execute_result"
    }
   ],
   "source": [
    "obs_by_park = sheep_observations.groupby('park_name').observations.sum().reset_index()\n",
    "obs_by_park"
   ]
  },
  {
   "cell_type": "markdown",
   "metadata": {},
   "source": [
    "Create a bar chart showing the different number of observations per week at each park.\n",
    "\n",
    "1. Start by creating a wide figure with `figsize=(16, 4)`\n",
    "1. Start by creating an axes object called `ax` using `plt.subplot`.\n",
    "2. Create a bar chart whose heights are equal to `observations` column of `obs_by_park`.\n",
    "3. Create an x-tick for each of the bars.\n",
    "4. Label each x-tick with the label from `park_name` in `obs_by_park`\n",
    "5. Label the y-axis `Number of Observations`\n",
    "6. Title the graph `Observations of Sheep per Week`\n",
    "7. Plot the grap using `plt.show()`"
   ]
  },
  {
   "cell_type": "code",
   "execution_count": 213,
   "metadata": {},
   "outputs": [
    {
     "data": {
      "image/png": "[encoded data removed]",
      "text/plain": [
       "<Figure size 1152x288 with 1 Axes>"
      ]
     },
     "metadata": {
      "needs_background": "light"
     },
     "output_type": "display_data"
    }
   ],
   "source": [
    "plt.figure(figsize=(16,4))\n",
    "plt.bar(obs_by_park['park_name'], obs_by_park['observations'])\n",
    "plt.xlabel('Park')\n",
    "plt.ylabel('Observations')\n",
    "plt.title('Observations of Sheeps per Week')\n",
    "plt.show()"
   ]
  },
  {
   "cell_type": "markdown",
   "metadata": {},
   "source": [
    "Our scientists know that 15% of sheep at Bryce National Park have foot and mouth disease.  Park rangers at Yellowstone National Park have been running a program to reduce the rate of foot and mouth disease at that park.  The scientists want to test whether or not this program is working.  They want to be able to detect reductions of at least 5 percentage points.  For instance, if 10% of sheep in Yellowstone have foot and mouth disease, they'd like to be able to know this, with confidence.\n",
    "\n",
    "Use <a href=\"https://s3.amazonaws.com/codecademy-content/courses/learn-hypothesis-testing/a_b_sample_size/index.html\">Codecademy's sample size calculator</a> to calculate the number of sheep that they would need to observe from each park.  Use the default level of significance (90%).\n",
    "\n",
    "Remember that \"Minimum Detectable Effect\" is a percent of the baseline."
   ]
  },
  {
   "cell_type": "code",
   "execution_count": null,
   "metadata": {
    "collapsed": true
   },
   "outputs": [],
   "source": [
    "sample_size = 870"
   ]
  },
  {
   "cell_type": "markdown",
   "metadata": {},
   "source": [
    "How many weeks would you need to observe sheep at Bryce National Park in order to observe enough sheep?  How many weeks would you need to observe at Yellowstone National Park to observe enough sheep?"
   ]
  },
  {
   "cell_type": "code",
   "execution_count": 215,
   "metadata": {},
   "outputs": [
    {
     "name": "stdout",
     "output_type": "stream",
     "text": [
      "3.48 1.7159763313609468\n"
     ]
    }
   ],
   "source": [
    "bryce_weeks_to_goal = 870/250\n",
    "yellowstone_weeks_to_goal = 870/507\n",
    "print(bryce_weeks_to_goal, yellowstone_weeks_to_goal)"
   ]
  }
 ],
 "metadata": {
  "kernelspec": {
   "display_name": "Python 3",
   "language": "python",
   "name": "python3"
  },
  "language_info": {
   "codemirror_mode": {
    "name": "ipython",
    "version": 3
   },
   "file_extension": ".py",
   "mimetype": "text/x-python",
   "name": "python",
   "nbconvert_exporter": "python",
   "pygments_lexer": "ipython3",
   "version": "3.8.4"
  }
 },
 "nbformat": 4,
 "nbformat_minor": 2
}
